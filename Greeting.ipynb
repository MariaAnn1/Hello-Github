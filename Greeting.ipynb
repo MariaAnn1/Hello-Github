{
  "nbformat": 4,
  "nbformat_minor": 0,
  "metadata": {
    "colab": {
      "provenance": [],
      "authorship_tag": "ABX9TyPOwbfV09HNZduVNlcZiJfs",
      "include_colab_link": true
    },
    "kernelspec": {
      "name": "python3",
      "display_name": "Python 3"
    },
    "language_info": {
      "name": "python"
    }
  },
  "cells": [
    {
      "cell_type": "markdown",
      "metadata": {
        "id": "view-in-github",
        "colab_type": "text"
      },
      "source": [
        "<a href=\"https://colab.research.google.com/github/MariaAnn1/Hello-Github/blob/main/Greeting.ipynb\" target=\"_parent\"><img src=\"https://colab.research.google.com/assets/colab-badge.svg\" alt=\"Open In Colab\"/></a>"
      ]
    },
    {
      "cell_type": "code",
      "execution_count": 11,
      "metadata": {
        "colab": {
          "base_uri": "https://localhost:8080/"
        },
        "id": "L7I_UYUYiFxd",
        "outputId": "f557de94-c54a-439d-cea9-d6f9afecd37c"
      },
      "outputs": [
        {
          "output_type": "stream",
          "name": "stdout",
          "text": [
            "Enter your name: Kevin\n",
            "Heyy,Kevin... Welcome to my first Github project.\n"
          ]
        }
      ],
      "source": [
        "name= input(\"Enter your name: \")\n",
        "print(f\"Heyy,{name}... Welcome to my first Github project.\")"
      ]
    }
  ]
}